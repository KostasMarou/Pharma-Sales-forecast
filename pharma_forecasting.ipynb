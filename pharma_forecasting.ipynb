{
  "cells": [
    {
      "cell_type": "code",
      "source": [
        "import pandas as pd\n",
        "import matplotlib.pyplot as plt\n",
        "# Load CSV file\n",
        "df = pd.read_csv(\"salesmonthly.csv\")\n",
        "\n",
        "# Show first few rows\n",
        "df.head()\n"
      ],
      "outputs": [],
      "execution_count": null,
      "metadata": {
        "gather": {
          "logged": 1750539902109
        }
      }
    },
    {
      "cell_type": "code",
      "source": [
        "df['datum'] = pd.to_datetime(df['datum'])  # Convert 'datum' to datetime\n",
        "df.set_index('datum', inplace=True)       # Set date column as index\n",
        "df.info()\n"
      ],
      "outputs": [],
      "execution_count": null,
      "metadata": {
        "gather": {
          "logged": 1750539918292
        }
      }
    },
    {
      "cell_type": "code",
      "source": [
        "df.describe()"
      ],
      "outputs": [],
      "execution_count": null,
      "metadata": {
        "gather": {
          "logged": 1750539935502
        }
      }
    },
    {
      "cell_type": "code",
      "source": [
        "plt.figure(figsize=(14, 6))\n",
        "df.plot(title=\"Monthly Sales Trends per Drug Category (2014–2019)\", grid=True)\n",
        "plt.xlabel(\"Date\")\n",
        "plt.ylabel(\"Sales\")\n",
        "plt.tight_layout()\n",
        "plt.show()"
      ],
      "outputs": [],
      "execution_count": null,
      "metadata": {
        "gather": {
          "logged": 1750539978137
        }
      }
    },
    {
      "cell_type": "code",
      "source": [
        "!pip install fbprophet --upgrade"
      ],
      "outputs": [],
      "execution_count": null,
      "metadata": {}
    },
    {
      "cell_type": "code",
      "source": [
        "%pip install Prophet"
      ],
      "outputs": [],
      "execution_count": null,
      "metadata": {
        "gather": {
          "logged": 1750540235769
        }
      }
    },
    {
      "cell_type": "code",
      "source": [
        "from prophet import Prophet"
      ],
      "outputs": [],
      "execution_count": null,
      "metadata": {
        "gather": {
          "logged": 1750540465413
        }
      }
    },
    {
      "cell_type": "code",
      "source": [
        "# Prepare the DataFrame\n",
        "df_prophet = df[['N02BE']].reset_index()\n",
        "df_prophet.columns = ['ds', 'y']\n",
        "df_prophet.head()"
      ],
      "outputs": [],
      "execution_count": null,
      "metadata": {
        "gather": {
          "logged": 1750540482215
        }
      }
    },
    {
      "cell_type": "code",
      "source": [
        "model = Prophet()\n",
        "model.fit(df_prophet)"
      ],
      "outputs": [],
      "execution_count": null,
      "metadata": {
        "gather": {
          "logged": 1750540497057
        }
      }
    },
    {
      "cell_type": "code",
      "source": [
        "future = model.make_future_dataframe(periods=12, freq='M')\n",
        "future.tail()"
      ],
      "outputs": [],
      "execution_count": null,
      "metadata": {
        "gather": {
          "logged": 1750540516619
        }
      }
    },
    {
      "cell_type": "code",
      "source": [
        "forecast = model.predict(future)\n",
        "\n",
        "# Plot forecast\n",
        "fig1 = model.plot(forecast)\n",
        "plt.title(\"N02BE Drug Forecast (12 Months Ahead)\")\n",
        "plt.xlabel(\"Date\")\n",
        "plt.ylabel(\"Sales\")\n",
        "plt.grid(True)\n",
        "plt.show()"
      ],
      "outputs": [],
      "execution_count": null,
      "metadata": {
        "gather": {
          "logged": 1750540538075
        }
      }
    },
    {
      "cell_type": "code",
      "source": [
        "forecast[['ds', 'yhat', 'yhat_lower', 'yhat_upper']].tail(12)"
      ],
      "outputs": [],
      "execution_count": null,
      "metadata": {
        "gather": {
          "logged": 1750540592160
        }
      }
    },
    {
      "cell_type": "code",
      "source": [
        "from prophet.make_holidays import make_holidays_df\n",
        "\n",
        "# Add Danish holidays (DK available)\n",
        "model = Prophet(weekly_seasonality=True, yearly_seasonality=True)\n",
        "model.add_country_holidays(country_name='DK')\n",
        "\n",
        "# Refit the model\n",
        "model.fit(df_prophet)\n",
        "\n",
        "# Forecast again\n",
        "future = model.make_future_dataframe(periods=12, freq='M')\n",
        "forecast = model.predict(future)\n",
        "\n",
        "# Plot updated forecast\n",
        "model.plot(forecast)\n",
        "plt.title(\"N02BE Forecast with Seasonality + Danish Holidays\")\n",
        "plt.grid(True)\n",
        "plt.tight_layout()\n",
        "plt.show()"
      ],
      "outputs": [],
      "execution_count": null,
      "metadata": {
        "gather": {
          "logged": 1750540761924
        }
      }
    },
    {
      "cell_type": "code",
      "source": [
        "%pip install statsmodels"
      ],
      "outputs": [],
      "execution_count": null,
      "metadata": {}
    },
    {
      "cell_type": "code",
      "source": [
        "from statsmodels.tsa.arima.model import ARIMA\n",
        "import numpy as np\n",
        "\n",
        "# Reuse df with datetime index and 'N02BE' column\n",
        "ts = df['N02BE']\n",
        "\n",
        "# Train/test split\n",
        "train_arima = ts[:-12]\n",
        "test_arima = ts[-12:]\n",
        "\n",
        "# Fit ARIMA model (manual order or auto_arima later)\n",
        "model_arima = ARIMA(train_arima, order=(1,1,1))\n",
        "model_fit = model_arima.fit()\n",
        "\n",
        "# Forecast\n",
        "forecast_arima = model_fit.forecast(steps=12)\n",
        "\n",
        "# Plot\n",
        "plt.figure(figsize=(12, 5))\n",
        "plt.plot(test_arima.index, test_arima, label=\"Actual\")\n",
        "plt.plot(test_arima.index, forecast_arima, label=\"ARIMA Forecast\")\n",
        "plt.legend()\n",
        "plt.title(\"N02BE Forecast – ARIMA vs Actual\")\n",
        "plt.grid(True)\n",
        "plt.show()"
      ],
      "outputs": [],
      "execution_count": null,
      "metadata": {
        "gather": {
          "logged": 1750541046758
        }
      }
    },
    {
      "cell_type": "code",
      "source": [
        "import joblib\n",
        "joblib.dump(model, 'prophet_n02be_model.pkl')"
      ],
      "outputs": [],
      "execution_count": null,
      "metadata": {
        "gather": {
          "logged": 1750541289799
        }
      }
    }
  ],
  "metadata": {
    "kernelspec": {
      "name": "python310-sdkv2",
      "language": "python",
      "display_name": "Python 3.10 - SDK v2"
    },
    "language_info": {
      "name": "python",
      "version": "3.10.16",
      "mimetype": "text/x-python",
      "codemirror_mode": {
        "name": "ipython",
        "version": 3
      },
      "pygments_lexer": "ipython3",
      "nbconvert_exporter": "python",
      "file_extension": ".py"
    },
    "microsoft": {
      "ms_spell_check": {
        "ms_spell_check_language": "en"
      }
    },
    "kernel_info": {
      "name": "python310-sdkv2"
    },
    "nteract": {
      "version": "nteract-front-end@1.0.0"
    }
  },
  "nbformat": 4,
  "nbformat_minor": 2
}